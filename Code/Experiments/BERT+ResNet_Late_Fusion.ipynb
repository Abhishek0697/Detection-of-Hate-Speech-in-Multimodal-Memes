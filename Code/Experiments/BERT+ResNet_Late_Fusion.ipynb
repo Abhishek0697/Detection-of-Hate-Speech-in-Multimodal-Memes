{
  "nbformat": 4,
  "nbformat_minor": 0,
  "metadata": {
    "kernelspec": {
      "display_name": "Python 3",
      "language": "python",
      "name": "python3"
    },
    "language_info": {
      "codemirror_mode": {
        "name": "ipython",
        "version": 3
      },
      "file_extension": ".py",
      "mimetype": "text/x-python",
      "name": "python",
      "nbconvert_exporter": "python",
      "pygments_lexer": "ipython3",
      "version": "3.8.5"
    },
    "colab": {
      "name": "BERT+ResNet_Late_Fusion.ipynb",
      "provenance": [],
      "include_colab_link": true
    }
  },
  "cells": [
    {
      "cell_type": "markdown",
      "metadata": {
        "id": "view-in-github",
        "colab_type": "text"
      },
      "source": [
        "<a href=\"https://colab.research.google.com/github/Abhishek0697/Detection-of-Hate-Speech-in-Multimodal-Memes/blob/main/Code/Experiments/BERT%2BResNet_Late_Fusion.ipynb\" target=\"_parent\"><img src=\"https://colab.research.google.com/assets/colab-badge.svg\" alt=\"Open In Colab\"/></a>"
      ]
    },
    {
      "cell_type": "code",
      "metadata": {
        "id": "t4SnxxcTYTwr"
      },
      "source": [
        "!nvidia-smi"
      ],
      "execution_count": null,
      "outputs": []
    },
    {
      "cell_type": "code",
      "metadata": {
        "id": "FrgPN26tYTwu"
      },
      "source": [
        "'''\n",
        "IMPORTING NECESSARY MODULES\n",
        "'''\n",
        "import numpy as np\n",
        "import torch\n",
        "from torch.utils.data import DataLoader, Dataset, TensorDataset\n",
        "import sys\n",
        "import torch.nn as nn\n",
        "import torch.nn.functional as F\n",
        "from torch.utils import data\n",
        "import torch.optim as optim\n",
        "from torch.utils.tensorboard import SummaryWriter\n",
        "\n",
        "sys.path.append('./Trainers/')\n",
        "sys.path.append('./Dataloaders/')\n",
        "sys.path.append('./utils/')\n",
        "sys.path.append('./architectures/')\n",
        "\n",
        "from dataloader import mydataset, create_prime_dict \n",
        "from Load_model import load\n",
        "from plot_curves import plot_loss, plot_acc\n",
        "from trainer_Resnet_BERT_late_fusion import train, test_classify\n",
        "\n",
        "'''\n",
        "For ResNet\n",
        "'''\n",
        "from resnet_models import ResNet,Bottleneck\n",
        "\n",
        "'''\n",
        "For BERT\n",
        "'''\n",
        "from transformers import BertForSequenceClassification, AdamW, BertConfig\n",
        "from transformers import get_linear_schedule_with_warmup"
      ],
      "execution_count": null,
      "outputs": []
    },
    {
      "cell_type": "markdown",
      "metadata": {
        "id": "mFYPTYlbYTwu"
      },
      "source": [
        "**Device**"
      ]
    },
    {
      "cell_type": "code",
      "metadata": {
        "id": "rVX5ZG3_YTwv"
      },
      "source": [
        "gpu_ids = [7]\n",
        "device = torch.device('cuda:'+ str(gpu_ids[0]) if torch.cuda.is_available() else 'cpu')\n",
        "print(device)"
      ],
      "execution_count": null,
      "outputs": []
    },
    {
      "cell_type": "markdown",
      "metadata": {
        "id": "XH8EjAVwYTwv"
      },
      "source": [
        "**Dataloading Scheme**"
      ]
    },
    {
      "cell_type": "code",
      "metadata": {
        "id": "wyyLYhmyYTww"
      },
      "source": [
        "trainlist = 'add path of training list'\n",
        "validlist = 'add path of validation list'"
      ],
      "execution_count": null,
      "outputs": []
    },
    {
      "cell_type": "code",
      "metadata": {
        "id": "Ch07rtRIYTww"
      },
      "source": [
        "classes = create_prime_dict(trainlist)"
      ],
      "execution_count": null,
      "outputs": []
    },
    {
      "cell_type": "code",
      "metadata": {
        "id": "53oyIb8xYTwx"
      },
      "source": [
        "'''\n",
        "Train Dataloader\n",
        "''' \n",
        "train_dataset = mydataset(trainlist, classes, name='train')          \n",
        "train_dataloader = data.DataLoader(train_dataset, shuffle= True, batch_size = 64, num_workers=16,pin_memory=True)\n",
        "\n",
        "\n",
        "'''\n",
        "Validation Dataloader\n",
        "''' \n",
        "validation_dataset = mydataset(validlist, classes, name='valid')         \n",
        "validation_dataloader = data.DataLoader(validation_dataset, shuffle=False, batch_size = 64, num_workers=16,pin_memory=True)"
      ],
      "execution_count": null,
      "outputs": []
    },
    {
      "cell_type": "markdown",
      "metadata": {
        "id": "bc1VlJ0dYTwx"
      },
      "source": [
        "**Model Definition**"
      ]
    },
    {
      "cell_type": "code",
      "metadata": {
        "id": "qzHjO67GYTwx"
      },
      "source": [
        "'''\n",
        "Model1 ResNet50\n",
        "'''\n",
        "Image_model = ResNet(Bottleneck, [3, 4, 6, 3], num_classes = 2)\n",
        "Image_model = nn.DataParallel(Image_model,device_ids = gpu_ids).to(device)\n",
        "\n",
        "\n",
        "'''\n",
        "Load saved model from checkpoint\n",
        "'''\n",
        "model1_name = 'Resnet50'\n",
        "model1_path = './saved_model_checkpoints/'+model1_name\n",
        "\n",
        "checkpoint1 = torch.load(model1_path)\n",
        "Image_model.load_state_dict(checkpoint1['model_state_dict'])\n",
        "\n",
        "Image_model.to(device)"
      ],
      "execution_count": null,
      "outputs": []
    },
    {
      "cell_type": "code",
      "metadata": {
        "id": "Bd4zA-S8YTwy"
      },
      "source": [
        "'''\n",
        "Model 2 BERT\n",
        "\n",
        "Load BertForSequenceClassification, the pretrained BERT model with a single linear classification layer on top.\n",
        "''' \n",
        "\n",
        "Text_model = BertForSequenceClassification.from_pretrained(\n",
        "    \"bert-base-uncased\", \n",
        "    num_labels = 2,   \n",
        "    output_attentions = False, \n",
        "    output_hidden_states = True\n",
        ")\n",
        "\n",
        "Text_model = nn.DataParallel(Text_model,device_ids=gpu_ids).to(device)\n",
        "\n",
        "\n",
        "'''\n",
        "Load saved model from checkpoint\n",
        "'''\n",
        "model2_name = 'BERT_basic'\n",
        "model2_path = './saved_model_checkpoints/'+model2_name\n",
        "\n",
        "checkpoint2 = torch.load(model2_path)\n",
        "Text_model.load_state_dict(checkpoint2['model_state_dict'])\n",
        "\n",
        "Text_model.to(device)"
      ],
      "execution_count": null,
      "outputs": []
    },
    {
      "cell_type": "code",
      "metadata": {
        "id": "sMlJjNC4YTwz"
      },
      "source": [
        "'''\n",
        "Fusion\n",
        "'''\n",
        "class FusionNet(nn.Module):\n",
        "    \n",
        "    def __init__(self, num_classes, drop_prob = 0.1):\n",
        "        super(FusionNet, self).__init__()\n",
        "        \n",
        "        self.pooler = nn.Linear(in_features=768, out_features=768)\n",
        "        \n",
        "        self.concat = nn.Linear(in_features=768+2048, out_features= 512)\n",
        "                \n",
        "        self.classify = nn.Linear(in_features = 512, out_features = num_classes)\n",
        "        \n",
        "        \n",
        "    def forward(self, text_features, image_features):\n",
        "\n",
        "        x =(text_features+image_features)/2\n",
        "\n",
        "        return x"
      ],
      "execution_count": null,
      "outputs": []
    },
    {
      "cell_type": "code",
      "metadata": {
        "id": "ZpCnByvSYTwz"
      },
      "source": [
        "Fusion_model = FusionNet(num_classes =2 , drop_prob = 0.1)\n",
        "Fusion_model = nn.DataParallel(Fusion_model, device_ids=gpu_ids).to(device)"
      ],
      "execution_count": null,
      "outputs": []
    },
    {
      "cell_type": "markdown",
      "metadata": {
        "id": "XJ4mTI-WYTwz"
      },
      "source": [
        "**Hyperparameters**"
      ]
    },
    {
      "cell_type": "code",
      "metadata": {
        "id": "9CCd6kK4YTw0"
      },
      "source": [
        "'''\n",
        "Loss Function\n",
        "'''\n",
        "criterion = nn.CrossEntropyLoss()\n",
        "\n",
        "\n",
        "'''\n",
        "Optimizer\n",
        "'''\n",
        "optimizer = torch.optim.SGD(Fusion_model.parameters(), lr=0.01, weight_decay=1e-4, momentum=0.9)\n",
        "# optimizer = AdamW(Fusion_model.parameters(), lr = 2e-3, eps = 1e-8)\n",
        "\n",
        "\n",
        "'''\n",
        "Number of training epochs.\n",
        "'''\n",
        "num_Epochs = 10\n",
        "\n",
        "\n",
        "# '''\n",
        "# OneCycleLR\n",
        "# '''\n",
        "# max_lr = 0.05\n",
        "# lr_scheduler = torch.optim.lr_scheduler.OneCycleLR(optimizer, max_lr, total_steps=None, epochs=num_Epochs, steps_per_epoch=len(train_dataloader), pct_start=0.3, anneal_strategy='cos', cycle_momentum=True, base_momentum=0.85, max_momentum=0.95, div_factor=25.0, final_div_factor=10000.0, last_epoch=-1)\n",
        "\n",
        "\n",
        "lr_scheduler = torch.optim.lr_scheduler.StepLR(optimizer, step_size= 4, gamma = 0.1)\n",
        "\n",
        "# lr_scheduler = torch.optim.lr_scheduler.CosineAnnealingLR(optimizer, T_max, eta_min=0, last_epoch=-1)"
      ],
      "execution_count": null,
      "outputs": []
    },
    {
      "cell_type": "code",
      "metadata": {
        "id": "z4_vCM5lYTw0"
      },
      "source": [
        "model_name = 'Late_Fusion'\n",
        "model_path = './saved_model_checkpoints/'+model_name"
      ],
      "execution_count": null,
      "outputs": []
    },
    {
      "cell_type": "code",
      "metadata": {
        "id": "ZAz7WgkZYTw0"
      },
      "source": [
        "writer = SummaryWriter(model_name)\n",
        "\n",
        "train(Image_model, Text_model, Fusion_model, train_dataloader, validation_dataloader, criterion, optimizer, lr_scheduler, model_path, writer, device, epochs = num_Epochs)\n",
        "\n",
        "writer.flush()\n",
        "writer.close()"
      ],
      "execution_count": null,
      "outputs": []
    },
    {
      "cell_type": "code",
      "metadata": {
        "id": "krUr0wnZYTw1"
      },
      "source": [
        "'''\n",
        "Load saved model from checkpoint\n",
        "'''\n",
        "Fusion_model, optimizer, lr_scheduler, train_loss, v_loss, v_acc, epoch = load(model_path, Fusion_model, optimizer, lr_scheduler)\n"
      ],
      "execution_count": null,
      "outputs": []
    },
    {
      "cell_type": "markdown",
      "metadata": {
        "id": "0r2KHSrrYTw1"
      },
      "source": [
        "**Evaluate**"
      ]
    },
    {
      "cell_type": "code",
      "metadata": {
        "id": "EW1doXTkYTw2"
      },
      "source": [
        "test_classify(Fusion_model, validation_dataloader, criterion, device)"
      ],
      "execution_count": null,
      "outputs": []
    }
  ]
}